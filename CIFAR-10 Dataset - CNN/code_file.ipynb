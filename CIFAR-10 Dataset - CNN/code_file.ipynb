{
 "cells": [
  {
   "cell_type": "markdown",
   "id": "19b39296",
   "metadata": {},
   "source": [
    "# CIFAR-10 DATASET - CNN"
   ]
  },
  {
   "cell_type": "code",
   "execution_count": 1,
   "id": "4ea78179",
   "metadata": {},
   "outputs": [],
   "source": [
    "import pandas as pd\n",
    "import numpy as np\n",
    "import seaborn as sns\n",
    "import matplotlib.pyplot as plt\n",
    "\n",
    "%matplotlib inline"
   ]
  },
  {
   "cell_type": "code",
   "execution_count": 2,
   "id": "1e40431c",
   "metadata": {},
   "outputs": [],
   "source": [
    "from tensorflow.keras.datasets import cifar10"
   ]
  },
  {
   "cell_type": "code",
   "execution_count": 4,
   "id": "3ceb83b9",
   "metadata": {},
   "outputs": [
    {
     "name": "stdout",
     "output_type": "stream",
     "text": [
      "Downloading data from https://www.cs.toronto.edu/~kriz/cifar-10-python.tar.gz\n",
      "170500096/170498071 [==============================] - 32s 0us/step\n"
     ]
    }
   ],
   "source": [
    "(X_train,y_train),(X_test,y_test) = cifar10.load_data()"
   ]
  },
  {
   "cell_type": "code",
   "execution_count": 5,
   "id": "1fd5905c",
   "metadata": {},
   "outputs": [
    {
     "data": {
      "text/plain": [
       "(50000, 32, 32, 3)"
      ]
     },
     "execution_count": 5,
     "metadata": {},
     "output_type": "execute_result"
    }
   ],
   "source": [
    "X_train.shape"
   ]
  },
  {
   "cell_type": "code",
   "execution_count": 8,
   "id": "3b89f84b",
   "metadata": {},
   "outputs": [
    {
     "data": {
      "text/plain": [
       "(32, 32, 3)"
      ]
     },
     "execution_count": 8,
     "metadata": {},
     "output_type": "execute_result"
    }
   ],
   "source": [
    "X_train[0].shape"
   ]
  },
  {
   "cell_type": "code",
   "execution_count": 10,
   "id": "f610f9b9",
   "metadata": {},
   "outputs": [
    {
     "data": {
      "text/plain": [
       "(50000, 1)"
      ]
     },
     "execution_count": 10,
     "metadata": {},
     "output_type": "execute_result"
    }
   ],
   "source": [
    "y_train.shape"
   ]
  },
  {
   "cell_type": "code",
   "execution_count": 12,
   "id": "04766dfe",
   "metadata": {},
   "outputs": [
    {
     "data": {
      "text/plain": [
       "<matplotlib.image.AxesImage at 0x1626cac1460>"
      ]
     },
     "execution_count": 12,
     "metadata": {},
     "output_type": "execute_result"
    },
    {
     "data": {
      "image/png": "[encoded data removed]",
      "text/plain": [
       "<Figure size 432x288 with 1 Axes>"
      ]
     },
     "metadata": {
      "needs_background": "light"
     },
     "output_type": "display_data"
    }
   ],
   "source": [
    "plt.imshow(X_train[12])"
   ]
  },
  {
   "cell_type": "code",
   "execution_count": 13,
   "id": "fe131ac7",
   "metadata": {},
   "outputs": [
    {
     "data": {
      "text/plain": [
       "255"
      ]
     },
     "execution_count": 13,
     "metadata": {},
     "output_type": "execute_result"
    }
   ],
   "source": [
    "X_train[0].max()"
   ]
  },
  {
   "cell_type": "code",
   "execution_count": 14,
   "id": "03e56a2a",
   "metadata": {},
   "outputs": [],
   "source": [
    "X_train = X_train/255\n",
    "X_test = X_test/255"
   ]
  },
  {
   "cell_type": "code",
   "execution_count": 15,
   "id": "44cc95d5",
   "metadata": {},
   "outputs": [],
   "source": [
    "from tensorflow.keras.utils import to_categorical"
   ]
  },
  {
   "cell_type": "code",
   "execution_count": 16,
   "id": "f2d16846",
   "metadata": {},
   "outputs": [],
   "source": [
    "y_cat_train = to_categorical(y_train,10)\n",
    "y_cat_test = to_categorical(y_test,10)"
   ]
  },
  {
   "cell_type": "markdown",
   "id": "5a284164",
   "metadata": {},
   "source": [
    "## Model Creation and training"
   ]
  },
  {
   "cell_type": "code",
   "execution_count": 19,
   "id": "007997a6",
   "metadata": {},
   "outputs": [],
   "source": [
    "from tensorflow.keras.models import Sequential\n",
    "from tensorflow.keras.layers import Dense, Conv2D, MaxPool2D, Flatten, Dropout"
   ]
  },
  {
   "cell_type": "code",
   "execution_count": 31,
   "id": "d824aaa3",
   "metadata": {},
   "outputs": [],
   "source": [
    "model = Sequential()\n",
    "\n",
    "# Convolution layer-1\n",
    "model.add(Conv2D(filters=32,kernel_size=(4,4),\n",
    "          input_shape=(32,32,3),\n",
    "          activation = 'relu'))\n",
    "\n",
    "# Pooling layer-1\n",
    "model.add(MaxPool2D(pool_size=(2,2)))\n",
    "\n",
    "# Convolution layer-2\n",
    "model.add(Conv2D(filters=32,kernel_size=(4,4),\n",
    "          input_shape=(32,32,3),\n",
    "          activation = 'relu'))\n",
    "\n",
    "# Pooling layer-2\n",
    "model.add(MaxPool2D(pool_size=(2,2)))\n",
    "\n",
    "# Flattening layer\n",
    "model.add(Flatten())\n",
    "\n",
    "# Dense layer\n",
    "model.add(Dense(256,activation='relu'))\n",
    "model.add(Dropout(0.1))\n",
    "\n",
    "# Output layer\n",
    "model.add(Dense(10,activation = 'softmax'))\n",
    "\n",
    "model.compile(loss = 'categorical_crossentropy',\n",
    "              optimizer = 'adam',\n",
    "              metrics = ['accuracy'])"
   ]
  },
  {
   "cell_type": "code",
   "execution_count": 32,
   "id": "9b0bbb77",
   "metadata": {},
   "outputs": [
    {
     "name": "stdout",
     "output_type": "stream",
     "text": [
      "Model: \"sequential_3\"\n",
      "_________________________________________________________________\n",
      "Layer (type)                 Output Shape              Param #   \n",
      "=================================================================\n",
      "conv2d_4 (Conv2D)            (None, 29, 29, 32)        1568      \n",
      "_________________________________________________________________\n",
      "max_pooling2d_4 (MaxPooling2 (None, 14, 14, 32)        0         \n",
      "_________________________________________________________________\n",
      "conv2d_5 (Conv2D)            (None, 11, 11, 32)        16416     \n",
      "_________________________________________________________________\n",
      "max_pooling2d_5 (MaxPooling2 (None, 5, 5, 32)          0         \n",
      "_________________________________________________________________\n",
      "flatten_2 (Flatten)          (None, 800)               0         \n",
      "_________________________________________________________________\n",
      "dense_4 (Dense)              (None, 256)               205056    \n",
      "_________________________________________________________________\n",
      "dropout_2 (Dropout)          (None, 256)               0         \n",
      "_________________________________________________________________\n",
      "dense_5 (Dense)              (None, 10)                2570      \n",
      "=================================================================\n",
      "Total params: 225,610\n",
      "Trainable params: 225,610\n",
      "Non-trainable params: 0\n",
      "_________________________________________________________________\n"
     ]
    }
   ],
   "source": [
    "model.summary()"
   ]
  },
  {
   "cell_type": "code",
   "execution_count": 33,
   "id": "e9589007",
   "metadata": {},
   "outputs": [],
   "source": [
    "from tensorflow.keras.callbacks import EarlyStopping"
   ]
  },
  {
   "cell_type": "code",
   "execution_count": 34,
   "id": "94a6ed21",
   "metadata": {},
   "outputs": [],
   "source": [
    "early_stop = EarlyStopping(monitor = 'val_loss',\n",
    "                           patience = 5,\n",
    "                           mode='min')"
   ]
  },
  {
   "cell_type": "code",
   "execution_count": 35,
   "id": "74e245cc",
   "metadata": {},
   "outputs": [
    {
     "name": "stdout",
     "output_type": "stream",
     "text": [
      "Epoch 1/20\n",
      "1563/1563 [==============================] - 59s 38ms/step - loss: 1.4843 - accuracy: 0.4645 - val_loss: 1.2492 - val_accuracy: 0.5529\n",
      "Epoch 2/20\n",
      "1563/1563 [==============================] - 61s 39ms/step - loss: 1.1731 - accuracy: 0.5851 - val_loss: 1.1361 - val_accuracy: 0.6008\n",
      "Epoch 3/20\n",
      "1563/1563 [==============================] - 69s 44ms/step - loss: 1.0424 - accuracy: 0.6326 - val_loss: 1.0782 - val_accuracy: 0.6259\n",
      "Epoch 4/20\n",
      "1563/1563 [==============================] - 62s 40ms/step - loss: 0.9487 - accuracy: 0.6690 - val_loss: 1.0077 - val_accuracy: 0.6508\n",
      "Epoch 5/20\n",
      "1563/1563 [==============================] - 64s 41ms/step - loss: 0.8770 - accuracy: 0.6920 - val_loss: 0.9507 - val_accuracy: 0.6668\n",
      "Epoch 6/20\n",
      "1563/1563 [==============================] - 67s 43ms/step - loss: 0.8117 - accuracy: 0.7143 - val_loss: 0.9685 - val_accuracy: 0.6666\n",
      "Epoch 7/20\n",
      "1563/1563 [==============================] - 72s 46ms/step - loss: 0.7529 - accuracy: 0.7367 - val_loss: 0.9454 - val_accuracy: 0.6741\n",
      "Epoch 8/20\n",
      "1563/1563 [==============================] - 78s 50ms/step - loss: 0.7043 - accuracy: 0.7534 - val_loss: 0.9165 - val_accuracy: 0.6841\n",
      "Epoch 9/20\n",
      "1563/1563 [==============================] - 80s 51ms/step - loss: 0.6631 - accuracy: 0.7648 - val_loss: 0.9743 - val_accuracy: 0.6744\n",
      "Epoch 10/20\n",
      "1563/1563 [==============================] - 69s 44ms/step - loss: 0.6185 - accuracy: 0.7811 - val_loss: 0.9651 - val_accuracy: 0.6845\n",
      "Epoch 11/20\n",
      "1563/1563 [==============================] - 73s 47ms/step - loss: 0.5778 - accuracy: 0.7941 - val_loss: 1.0341 - val_accuracy: 0.6737\n",
      "Epoch 12/20\n",
      "1563/1563 [==============================] - 81s 52ms/step - loss: 0.5419 - accuracy: 0.8092 - val_loss: 0.9878 - val_accuracy: 0.6923\n",
      "Epoch 13/20\n",
      "1563/1563 [==============================] - 82s 52ms/step - loss: 0.5060 - accuracy: 0.8199 - val_loss: 1.1047 - val_accuracy: 0.6832\n"
     ]
    },
    {
     "data": {
      "text/plain": [
       "<tensorflow.python.keras.callbacks.History at 0x1627145d340>"
      ]
     },
     "execution_count": 35,
     "metadata": {},
     "output_type": "execute_result"
    }
   ],
   "source": [
    "model.fit(x = X_train,\n",
    "          y = y_cat_train,\n",
    "          epochs=20,\n",
    "          callbacks = [early_stop],\n",
    "          validation_data = (X_test, y_cat_test))"
   ]
  },
  {
   "cell_type": "code",
   "execution_count": 36,
   "id": "534dd6fa",
   "metadata": {},
   "outputs": [],
   "source": [
    "metrics = pd.DataFrame(model.history.history)"
   ]
  },
  {
   "cell_type": "code",
   "execution_count": 37,
   "id": "4c4c2539",
   "metadata": {},
   "outputs": [
    {
     "data": {
      "text/html": [
       "<div>\n",
       "<style scoped>\n",
       "    .dataframe tbody tr th:only-of-type {\n",
       "        vertical-align: middle;\n",
       "    }\n",
       "\n",
       "    .dataframe tbody tr th {\n",
       "        vertical-align: top;\n",
       "    }\n",
       "\n",
       "    .dataframe thead th {\n",
       "        text-align: right;\n",
       "    }\n",
       "</style>\n",
       "<table border=\"1\" class=\"dataframe\">\n",
       "  <thead>\n",
       "    <tr style=\"text-align: right;\">\n",
       "      <th></th>\n",
       "      <th>loss</th>\n",
       "      <th>accuracy</th>\n",
       "      <th>val_loss</th>\n",
       "      <th>val_accuracy</th>\n",
       "    </tr>\n",
       "  </thead>\n",
       "  <tbody>\n",
       "    <tr>\n",
       "      <th>0</th>\n",
       "      <td>1.484329</td>\n",
       "      <td>0.46454</td>\n",
       "      <td>1.249208</td>\n",
       "      <td>0.5529</td>\n",
       "    </tr>\n",
       "    <tr>\n",
       "      <th>1</th>\n",
       "      <td>1.173119</td>\n",
       "      <td>0.58512</td>\n",
       "      <td>1.136080</td>\n",
       "      <td>0.6008</td>\n",
       "    </tr>\n",
       "    <tr>\n",
       "      <th>2</th>\n",
       "      <td>1.042376</td>\n",
       "      <td>0.63256</td>\n",
       "      <td>1.078200</td>\n",
       "      <td>0.6259</td>\n",
       "    </tr>\n",
       "    <tr>\n",
       "      <th>3</th>\n",
       "      <td>0.948715</td>\n",
       "      <td>0.66904</td>\n",
       "      <td>1.007732</td>\n",
       "      <td>0.6508</td>\n",
       "    </tr>\n",
       "    <tr>\n",
       "      <th>4</th>\n",
       "      <td>0.877001</td>\n",
       "      <td>0.69204</td>\n",
       "      <td>0.950664</td>\n",
       "      <td>0.6668</td>\n",
       "    </tr>\n",
       "    <tr>\n",
       "      <th>5</th>\n",
       "      <td>0.811724</td>\n",
       "      <td>0.71434</td>\n",
       "      <td>0.968546</td>\n",
       "      <td>0.6666</td>\n",
       "    </tr>\n",
       "    <tr>\n",
       "      <th>6</th>\n",
       "      <td>0.752877</td>\n",
       "      <td>0.73670</td>\n",
       "      <td>0.945406</td>\n",
       "      <td>0.6741</td>\n",
       "    </tr>\n",
       "    <tr>\n",
       "      <th>7</th>\n",
       "      <td>0.704256</td>\n",
       "      <td>0.75336</td>\n",
       "      <td>0.916507</td>\n",
       "      <td>0.6841</td>\n",
       "    </tr>\n",
       "    <tr>\n",
       "      <th>8</th>\n",
       "      <td>0.663091</td>\n",
       "      <td>0.76484</td>\n",
       "      <td>0.974317</td>\n",
       "      <td>0.6744</td>\n",
       "    </tr>\n",
       "    <tr>\n",
       "      <th>9</th>\n",
       "      <td>0.618485</td>\n",
       "      <td>0.78106</td>\n",
       "      <td>0.965106</td>\n",
       "      <td>0.6845</td>\n",
       "    </tr>\n",
       "    <tr>\n",
       "      <th>10</th>\n",
       "      <td>0.577792</td>\n",
       "      <td>0.79414</td>\n",
       "      <td>1.034073</td>\n",
       "      <td>0.6737</td>\n",
       "    </tr>\n",
       "    <tr>\n",
       "      <th>11</th>\n",
       "      <td>0.541902</td>\n",
       "      <td>0.80916</td>\n",
       "      <td>0.987825</td>\n",
       "      <td>0.6923</td>\n",
       "    </tr>\n",
       "    <tr>\n",
       "      <th>12</th>\n",
       "      <td>0.505986</td>\n",
       "      <td>0.81986</td>\n",
       "      <td>1.104678</td>\n",
       "      <td>0.6832</td>\n",
       "    </tr>\n",
       "  </tbody>\n",
       "</table>\n",
       "</div>"
      ],
      "text/plain": [
       "        loss  accuracy  val_loss  val_accuracy\n",
       "0   1.484329   0.46454  1.249208        0.5529\n",
       "1   1.173119   0.58512  1.136080        0.6008\n",
       "2   1.042376   0.63256  1.078200        0.6259\n",
       "3   0.948715   0.66904  1.007732        0.6508\n",
       "4   0.877001   0.69204  0.950664        0.6668\n",
       "5   0.811724   0.71434  0.968546        0.6666\n",
       "6   0.752877   0.73670  0.945406        0.6741\n",
       "7   0.704256   0.75336  0.916507        0.6841\n",
       "8   0.663091   0.76484  0.974317        0.6744\n",
       "9   0.618485   0.78106  0.965106        0.6845\n",
       "10  0.577792   0.79414  1.034073        0.6737\n",
       "11  0.541902   0.80916  0.987825        0.6923\n",
       "12  0.505986   0.81986  1.104678        0.6832"
      ]
     },
     "execution_count": 37,
     "metadata": {},
     "output_type": "execute_result"
    }
   ],
   "source": [
    "metrics"
   ]
  },
  {
   "cell_type": "code",
   "execution_count": 38,
   "id": "a195e85d",
   "metadata": {},
   "outputs": [
    {
     "data": {
      "text/plain": [
       "Index(['loss', 'accuracy', 'val_loss', 'val_accuracy'], dtype='object')"
      ]
     },
     "execution_count": 38,
     "metadata": {},
     "output_type": "execute_result"
    }
   ],
   "source": [
    "metrics.columns"
   ]
  },
  {
   "cell_type": "code",
   "execution_count": 39,
   "id": "1f8aa16c",
   "metadata": {},
   "outputs": [
    {
     "data": {
      "text/plain": [
       "<AxesSubplot:>"
      ]
     },
     "execution_count": 39,
     "metadata": {},
     "output_type": "execute_result"
    },
    {
     "data": {
      "image/png": "[encoded data removed]",
      "text/plain": [
       "<Figure size 432x288 with 1 Axes>"
      ]
     },
     "metadata": {
      "needs_background": "light"
     },
     "output_type": "display_data"
    }
   ],
   "source": [
    "metrics[['loss', 'val_loss']].plot()"
   ]
  },
  {
   "cell_type": "code",
   "execution_count": 41,
   "id": "aecbd7ec",
   "metadata": {},
   "outputs": [
    {
     "data": {
      "text/plain": [
       "<AxesSubplot:>"
      ]
     },
     "execution_count": 41,
     "metadata": {},
     "output_type": "execute_result"
    },
    {
     "data": {
      "image/png": "[encoded data removed]",
      "text/plain": [
       "<Figure size 432x288 with 1 Axes>"
      ]
     },
     "metadata": {
      "needs_background": "light"
     },
     "output_type": "display_data"
    }
   ],
   "source": [
    "metrics[['accuracy', 'val_accuracy']].plot()"
   ]
  },
  {
   "cell_type": "code",
   "execution_count": 42,
   "id": "7968a038",
   "metadata": {},
   "outputs": [
    {
     "name": "stdout",
     "output_type": "stream",
     "text": [
      "WARNING:tensorflow:From C:\\Users\\ADVAIT~1\\AppData\\Local\\Temp/ipykernel_6780/582482011.py:1: Sequential.predict_classes (from tensorflow.python.keras.engine.sequential) is deprecated and will be removed after 2021-01-01.\n",
      "Instructions for updating:\n",
      "Please use instead:* `np.argmax(model.predict(x), axis=-1)`,   if your model does multi-class classification   (e.g. if it uses a `softmax` last-layer activation).* `(model.predict(x) > 0.5).astype(\"int32\")`,   if your model does binary classification   (e.g. if it uses a `sigmoid` last-layer activation).\n"
     ]
    }
   ],
   "source": [
    "predictions = model.predict_classes(X_test)"
   ]
  },
  {
   "cell_type": "code",
   "execution_count": 44,
   "id": "4c2d9412",
   "metadata": {},
   "outputs": [],
   "source": [
    "from sklearn.metrics import classification_report, confusion_matrix"
   ]
  },
  {
   "cell_type": "code",
   "execution_count": 45,
   "id": "bbe180d6",
   "metadata": {},
   "outputs": [
    {
     "name": "stdout",
     "output_type": "stream",
     "text": [
      "              precision    recall  f1-score   support\n",
      "\n",
      "           0       0.71      0.74      0.72      1000\n",
      "           1       0.76      0.82      0.79      1000\n",
      "           2       0.60      0.59      0.59      1000\n",
      "           3       0.49      0.52      0.50      1000\n",
      "           4       0.67      0.62      0.64      1000\n",
      "           5       0.66      0.50      0.57      1000\n",
      "           6       0.79      0.74      0.77      1000\n",
      "           7       0.76      0.70      0.73      1000\n",
      "           8       0.71      0.84      0.77      1000\n",
      "           9       0.69      0.76      0.72      1000\n",
      "\n",
      "    accuracy                           0.68     10000\n",
      "   macro avg       0.68      0.68      0.68     10000\n",
      "weighted avg       0.68      0.68      0.68     10000\n",
      "\n"
     ]
    }
   ],
   "source": [
    "print(classification_report(y_test, predictions))"
   ]
  },
  {
   "cell_type": "code",
   "execution_count": 47,
   "id": "37eb704b",
   "metadata": {},
   "outputs": [
    {
     "name": "stdout",
     "output_type": "stream",
     "text": [
      "[[739  30  45  12  10  10   6  11  86  51]\n",
      " [ 20 817   5   3   3   1   8   2  34 107]\n",
      " [ 81  15 586  67  79  37  47  26  37  25]\n",
      " [ 26  26  72 522  60 123  56  36  42  37]\n",
      " [ 30   8  80  75 619  31  40  71  30  16]\n",
      " [ 17  10  67 235  48 497  23  57  27  19]\n",
      " [  8  22  59  69  44  10 744   6  22  16]\n",
      " [ 27   7  44  62  58  40   7 702  13  40]\n",
      " [ 57  39   6  11   3   5   2   2 844  31]\n",
      " [ 40  96  10  15   2   4   7   9  55 762]]\n"
     ]
    }
   ],
   "source": [
    "print(confusion_matrix(y_test, predictions))"
   ]
  },
  {
   "cell_type": "code",
   "execution_count": 48,
   "id": "dc26716e",
   "metadata": {},
   "outputs": [
    {
     "data": {
      "text/plain": [
       "<AxesSubplot:>"
      ]
     },
     "execution_count": 48,
     "metadata": {},
     "output_type": "execute_result"
    },
    {
     "data": {
      "image/png": "[encoded data removed]",
      "text/plain": [
       "<Figure size 648x504 with 2 Axes>"
      ]
     },
     "metadata": {
      "needs_background": "light"
     },
     "output_type": "display_data"
    }
   ],
   "source": [
    "plt.figure(figsize = (9,7))\n",
    "sns.heatmap(confusion_matrix(y_test, predictions),annot=True)"
   ]
  },
  {
   "cell_type": "code",
   "execution_count": 71,
   "id": "45aba3dd",
   "metadata": {},
   "outputs": [],
   "source": [
    "n = 16\n",
    "my_img = X_test[n]"
   ]
  },
  {
   "cell_type": "code",
   "execution_count": 72,
   "id": "2c9f1ed5",
   "metadata": {},
   "outputs": [
    {
     "data": {
      "text/plain": [
       "<matplotlib.image.AxesImage at 0x1626ee12880>"
      ]
     },
     "execution_count": 72,
     "metadata": {},
     "output_type": "execute_result"
    },
    {
     "data": {
      "image/png": "[encoded data removed]",
      "text/plain": [
       "<Figure size 432x288 with 1 Axes>"
      ]
     },
     "metadata": {
      "needs_background": "light"
     },
     "output_type": "display_data"
    }
   ],
   "source": [
    "plt.imshow(my_img)"
   ]
  },
  {
   "cell_type": "code",
   "execution_count": 73,
   "id": "42bf895b",
   "metadata": {},
   "outputs": [
    {
     "data": {
      "text/plain": [
       "array([5], dtype=int64)"
      ]
     },
     "execution_count": 73,
     "metadata": {},
     "output_type": "execute_result"
    }
   ],
   "source": [
    "model.predict_classes(my_img.reshape(1,32,32,3))"
   ]
  },
  {
   "cell_type": "code",
   "execution_count": 74,
   "id": "0e7d7dd2",
   "metadata": {},
   "outputs": [
    {
     "data": {
      "text/plain": [
       "array([5], dtype=uint8)"
      ]
     },
     "execution_count": 74,
     "metadata": {},
     "output_type": "execute_result"
    }
   ],
   "source": [
    "y_test[n]"
   ]
  },
  {
   "cell_type": "markdown",
   "id": "36db0965",
   "metadata": {},
   "source": [
    "## The End"
   ]
  }
 ],
 "metadata": {
  "kernelspec": {
   "display_name": "Python 3",
   "language": "python",
   "name": "python3"
  },
  "language_info": {
   "codemirror_mode": {
    "name": "ipython",
    "version": 3
   },
   "file_extension": ".py",
   "mimetype": "text/x-python",
   "name": "python",
   "nbconvert_exporter": "python",
   "pygments_lexer": "ipython3",
   "version": "3.8.12"
  }
 },
 "nbformat": 4,
 "nbformat_minor": 5
}
